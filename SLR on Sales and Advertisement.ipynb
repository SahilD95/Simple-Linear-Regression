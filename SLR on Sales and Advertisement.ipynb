{
 "cells": [
  {
   "cell_type": "markdown",
   "id": "9655cb9d",
   "metadata": {},
   "source": [
    "# Simple Linear Regression Project"
   ]
  },
  {
   "cell_type": "markdown",
   "id": "7ceeb112",
   "metadata": {},
   "source": [
    "## Modelling the linear relationship between Sales and Advertising dataset"
   ]
  },
  {
   "cell_type": "markdown",
   "id": "1e3f00c6",
   "metadata": {},
   "source": [
    "### Project overview\n",
    "\n",
    "In this project, I build a Simple Linear Regression model to study the linear relationship between Sales and Advertising dataset for a dietary weight control product.\n"
   ]
  },
  {
   "cell_type": "markdown",
   "id": "c3232658",
   "metadata": {},
   "source": [
    "### Linear Regression\n",
    "Linear Regression is a statistical technique which is used to find the linear relationship between dependent and one or more independent variables. This technique is applicable for Supervised learning Regression problems where we try to predict a continuous variable.\n",
    "\n",
    "Linear Regression can be further classified into two types – Simple and Multiple Linear Regression. In this project, I employ Simple Linear Regression technique where I have one independent and one dependent variable. It is the simplest form of Linear Regression where we fit a straight line to the data."
   ]
  },
  {
   "cell_type": "markdown",
   "id": "c9858907",
   "metadata": {},
   "source": [
    "### Simple Linear Regression (SLR)\n",
    "Simple Linear Regression (or SLR) is the simplest model in machine learning. It models the linear relationship between the independent and dependent variables.\n",
    "\n",
    "In this project, there is one independent or input variable which represents the Sales data and is denoted by X. Similarly, there is one dependent or output variable which represents the Advertising data and is denoted by y. We want to build a linear relationship between these variables. This linear relationship can be modelled by mathematical equation of the form:-\n",
    "\n",
    "             Y = β0   + β1*X    -------------   (1)\n",
    "\n",
    "\n",
    "In this equation, X and Y are called independent and dependent variables respectively,\n",
    "\n",
    "β1 is the coefficient for independent variable and\n",
    "\n",
    "β0 is the constant term.\n",
    "\n",
    "β0 and β1 are called parameters of the model.\n",
    "\n",
    "For simplicity, we can compare the above equation with the basic line equation of the form:-\n",
    "\n",
    "               y = ax + b       ----------------- (2)\n",
    "\n",
    "We can see that\n",
    "\n",
    "slope of the line is given by, a = β1, and\n",
    "\n",
    "intercept of the line by b = β0.\n",
    "\n",
    "In this Simple Linear Regression model, we want to fit a line which estimates the linear relationship between X and Y. So, the question of fitting reduces to estimating the parameters of the model β0 and β1."
   ]
  },
  {
   "cell_type": "markdown",
   "id": "69ba7bf5",
   "metadata": {},
   "source": [
    "### Ordinary Least Square Method\n",
    "As I have described earlier, the Sales and Advertising data are given by X and y respectively. We can draw a scatter plot between X and y which shows the relationship between them.\n",
    "\n",
    "Now, our task is to find a line which best fits this scatter plot. This line will help us to predict the value of any Target variable for any given Feature variable. This line is called **Regression line.**\n",
    "\n",
    "We can define an error function for any line. Then, the regression line is the one which minimizes the error function. Such an error function is also called a **Cost function.**"
   ]
  },
  {
   "cell_type": "markdown",
   "id": "be055665",
   "metadata": {},
   "source": [
    "### Cost Function\n",
    "\n",
    "We want the Regression line to resemble the dataset as closely as possible. In other words, we want the line to be as close to actual data points as possible. It can be achieved by minimizing the vertical distance between the actual data point and fitted line. I calculate the vertical distance between each data point and the line. This distance is called the **residual.**\n",
    "\n",
    "So, in a regression model, we try to minimize the residuals by finding the line of best fit. The residuals are represented by the vertical dotted lines from actual data points to the line.\n",
    "\n",
    "We can try to minimize the sum of the residuals, but then a large positive residual would cancel out a large negative residual. For this reason, we minimize the sum of the squares of the residuals.\n",
    "\n",
    "Mathematically, we denote actual data points by yi and predicted data points by ŷi. So, the residual for a data point i would be given as\n",
    "\n",
    "            di = yi -  ŷi\n",
    "\n",
    "Sum of the squares of the residuals is given as:\n",
    "\n",
    "            D = Ʃ di**2       for all data points\n",
    "\n",
    "\n",
    "This is the **Cost function.** It denotes the total error present in the model which is the sum of the total errors of each individual data point.\n",
    "\n",
    "We can estimate the parameters of the model β0 and β1 by minimize the error in the model by minimizing D. Thus, we can find the regression line given by equation (1).\n",
    "\n",
    "This method of finding the parameters of the model and thus regression line is called **Ordinary Least Square Method.**"
   ]
  },
  {
   "cell_type": "markdown",
   "id": "57af0079",
   "metadata": {},
   "source": [
    "### Software information\n",
    "I did this project using Jupyter notebook (Jupyter notebook server 5.5.0).\n",
    "\n",
    "The server is running on Python (Python 3.6.5), Anaconda distribution."
   ]
  },
  {
   "cell_type": "markdown",
   "id": "3c5bf51f",
   "metadata": {},
   "source": [
    "### The problem statement\n",
    "The aim of building a machine learning model is to solve a problem and to define a metric to measure model performance.\n",
    "\n",
    "The problem is to model and investigate the linear relationship between Sales and Advertising dataset for a dietary weight control product.\n",
    "\n",
    "I have used two performance metrics RMSE (Root Mean Square Value) and R2 Score value to compute our model performance."
   ]
  },
  {
   "cell_type": "markdown",
   "id": "fc4c62ee",
   "metadata": {},
   "source": [
    "### Python libraries\n",
    "I have Anaconda Python distribution installed on my system. It comes with most of the standard Python libraries I need for this project. The basic Python libraries used in this project are:-\n",
    "\n",
    "• Numpy – It provides a fast numerical array structure and operating functions.\n",
    "\n",
    "• Pandas – It provides tools for data storage, manipulation and analysis tasks.\n",
    "\n",
    "• Scikit-Learn – The required machine learning library in Python.\n",
    "\n",
    "• Matplotlib – It is the basic plotting library in Python. It provides tools for making plots."
   ]
  },
  {
   "cell_type": "code",
   "execution_count": 38,
   "id": "1cf87a91",
   "metadata": {},
   "outputs": [],
   "source": [
    "import numpy as np\n",
    "import pandas as pd\n",
    "import matplotlib.pyplot as plt\n"
   ]
  },
  {
   "cell_type": "code",
   "execution_count": 39,
   "id": "68b71e74",
   "metadata": {},
   "outputs": [],
   "source": [
    "%matplotlib inline\n",
    "\n",
    "# The above command sets the backend of matplotlib to the 'inline' backend. \n",
    "# It means the output of plotting commands is displayed inline"
   ]
  },
  {
   "cell_type": "markdown",
   "id": "feb707a6",
   "metadata": {},
   "source": [
    "### About the dataset\n",
    "The data set has been imported from the econometrics website with the following url:-\n",
    "\n",
    "http://www.econometrics.com/intro/sales.htm\n",
    "\n",
    "This data set contains Sales and Advertising expenditures for a dietary weight control product. It contains monthly data for 36 months. The variables in this data set are Sales and Advertising."
   ]
  },
  {
   "cell_type": "code",
   "execution_count": 41,
   "id": "2eef25d1",
   "metadata": {},
   "outputs": [
    {
     "data": {
      "text/html": [
       "<div>\n",
       "<style scoped>\n",
       "    .dataframe tbody tr th:only-of-type {\n",
       "        vertical-align: middle;\n",
       "    }\n",
       "\n",
       "    .dataframe tbody tr th {\n",
       "        vertical-align: top;\n",
       "    }\n",
       "\n",
       "    .dataframe thead th {\n",
       "        text-align: right;\n",
       "    }\n",
       "</style>\n",
       "<table border=\"1\" class=\"dataframe\">\n",
       "  <thead>\n",
       "    <tr style=\"text-align: right;\">\n",
       "      <th></th>\n",
       "      <th>12.0</th>\n",
       "      <th>15.0</th>\n",
       "    </tr>\n",
       "  </thead>\n",
       "  <tbody>\n",
       "    <tr>\n",
       "      <th>0</th>\n",
       "      <td>20.5</td>\n",
       "      <td>16.0</td>\n",
       "    </tr>\n",
       "    <tr>\n",
       "      <th>1</th>\n",
       "      <td>21.0</td>\n",
       "      <td>18.0</td>\n",
       "    </tr>\n",
       "    <tr>\n",
       "      <th>2</th>\n",
       "      <td>15.5</td>\n",
       "      <td>27.0</td>\n",
       "    </tr>\n",
       "    <tr>\n",
       "      <th>3</th>\n",
       "      <td>15.3</td>\n",
       "      <td>21.0</td>\n",
       "    </tr>\n",
       "    <tr>\n",
       "      <th>4</th>\n",
       "      <td>23.5</td>\n",
       "      <td>49.0</td>\n",
       "    </tr>\n",
       "  </tbody>\n",
       "</table>\n",
       "</div>"
      ],
      "text/plain": [
       "   12.0  15.0\n",
       "0  20.5  16.0\n",
       "1  21.0  18.0\n",
       "2  15.5  27.0\n",
       "3  15.3  21.0\n",
       "4  23.5  49.0"
      ]
     },
     "execution_count": 41,
     "metadata": {},
     "output_type": "execute_result"
    }
   ],
   "source": [
    "# Import the data from url in txt format\n",
    "\n",
    "df = pd.read_fwf('http://www.econometrics.com/intro/SALES.txt')\n",
    "df.head()"
   ]
  },
  {
   "cell_type": "markdown",
   "id": "e5c5a457",
   "metadata": {},
   "source": [
    "### Exploratory data analysis\n",
    "First, I import the dataset into the dataframe with the standard read_csv () function of pandas library and assign it to the df variable. Then, I conducted exploratory data analysis to get a feel for the data."
   ]
  },
  {
   "cell_type": "markdown",
   "id": "40cd3a10",
   "metadata": {},
   "source": [
    "### Pandas shape attribute\n",
    "The shape attribute of the pandas dataframe gives the dimensions of the dataframe.\n",
    "\n"
   ]
  },
  {
   "cell_type": "code",
   "execution_count": 7,
   "id": "11f304aa",
   "metadata": {},
   "outputs": [
    {
     "name": "stdout",
     "output_type": "stream",
     "text": [
      "(35, 2)\n"
     ]
    }
   ],
   "source": [
    "# Exploratory data analysis\n",
    "\n",
    "# View the dimensions of df\n",
    "\n",
    "print(df.shape)"
   ]
  },
  {
   "cell_type": "markdown",
   "id": "65ff95e2",
   "metadata": {},
   "source": [
    "### Pandas head() method\n",
    "I viewed the top 5 rows of the pandas dataframe with the pandas head() method."
   ]
  },
  {
   "cell_type": "code",
   "execution_count": null,
   "id": "8eeca6cf",
   "metadata": {},
   "outputs": [],
   "source": []
  },
  {
   "cell_type": "code",
   "execution_count": 43,
   "id": "ab45c3ed",
   "metadata": {},
   "outputs": [
    {
     "data": {
      "text/html": [
       "<div>\n",
       "<style scoped>\n",
       "    .dataframe tbody tr th:only-of-type {\n",
       "        vertical-align: middle;\n",
       "    }\n",
       "\n",
       "    .dataframe tbody tr th {\n",
       "        vertical-align: top;\n",
       "    }\n",
       "\n",
       "    .dataframe thead th {\n",
       "        text-align: right;\n",
       "    }\n",
       "</style>\n",
       "<table border=\"1\" class=\"dataframe\">\n",
       "  <thead>\n",
       "    <tr style=\"text-align: right;\">\n",
       "      <th></th>\n",
       "      <th>12.0</th>\n",
       "      <th>15.0</th>\n",
       "    </tr>\n",
       "  </thead>\n",
       "  <tbody>\n",
       "    <tr>\n",
       "      <th>0</th>\n",
       "      <td>20.5</td>\n",
       "      <td>16.0</td>\n",
       "    </tr>\n",
       "    <tr>\n",
       "      <th>1</th>\n",
       "      <td>21.0</td>\n",
       "      <td>18.0</td>\n",
       "    </tr>\n",
       "    <tr>\n",
       "      <th>2</th>\n",
       "      <td>15.5</td>\n",
       "      <td>27.0</td>\n",
       "    </tr>\n",
       "    <tr>\n",
       "      <th>3</th>\n",
       "      <td>15.3</td>\n",
       "      <td>21.0</td>\n",
       "    </tr>\n",
       "    <tr>\n",
       "      <th>4</th>\n",
       "      <td>23.5</td>\n",
       "      <td>49.0</td>\n",
       "    </tr>\n",
       "  </tbody>\n",
       "</table>\n",
       "</div>"
      ],
      "text/plain": [
       "   12.0  15.0\n",
       "0  20.5  16.0\n",
       "1  21.0  18.0\n",
       "2  15.5  27.0\n",
       "3  15.3  21.0\n",
       "4  23.5  49.0"
      ]
     },
     "execution_count": 43,
     "metadata": {},
     "output_type": "execute_result"
    }
   ],
   "source": [
    "# View the top 5 rows of df\n",
    "df.head()"
   ]
  },
  {
   "cell_type": "markdown",
   "id": "be9cd233",
   "metadata": {},
   "source": [
    "### Pandas columns attribute\n",
    "I renamed the column labels of the dataframe with the columns attribute."
   ]
  },
  {
   "cell_type": "code",
   "execution_count": 13,
   "id": "1ebf16ef",
   "metadata": {},
   "outputs": [
    {
     "data": {
      "text/html": [
       "<div>\n",
       "<style scoped>\n",
       "    .dataframe tbody tr th:only-of-type {\n",
       "        vertical-align: middle;\n",
       "    }\n",
       "\n",
       "    .dataframe tbody tr th {\n",
       "        vertical-align: top;\n",
       "    }\n",
       "\n",
       "    .dataframe thead th {\n",
       "        text-align: right;\n",
       "    }\n",
       "</style>\n",
       "<table border=\"1\" class=\"dataframe\">\n",
       "  <thead>\n",
       "    <tr style=\"text-align: right;\">\n",
       "      <th></th>\n",
       "      <th>Sales</th>\n",
       "      <th>Advertising</th>\n",
       "    </tr>\n",
       "  </thead>\n",
       "  <tbody>\n",
       "    <tr>\n",
       "      <th>0</th>\n",
       "      <td>20.5</td>\n",
       "      <td>16.0</td>\n",
       "    </tr>\n",
       "    <tr>\n",
       "      <th>1</th>\n",
       "      <td>21.0</td>\n",
       "      <td>18.0</td>\n",
       "    </tr>\n",
       "    <tr>\n",
       "      <th>2</th>\n",
       "      <td>15.5</td>\n",
       "      <td>27.0</td>\n",
       "    </tr>\n",
       "    <tr>\n",
       "      <th>3</th>\n",
       "      <td>15.3</td>\n",
       "      <td>21.0</td>\n",
       "    </tr>\n",
       "    <tr>\n",
       "      <th>4</th>\n",
       "      <td>23.5</td>\n",
       "      <td>49.0</td>\n",
       "    </tr>\n",
       "  </tbody>\n",
       "</table>\n",
       "</div>"
      ],
      "text/plain": [
       "   Sales  Advertising\n",
       "0   20.5         16.0\n",
       "1   21.0         18.0\n",
       "2   15.5         27.0\n",
       "3   15.3         21.0\n",
       "4   23.5         49.0"
      ]
     },
     "execution_count": 13,
     "metadata": {},
     "output_type": "execute_result"
    }
   ],
   "source": [
    "# Rename columns of df dataframe\n",
    "\n",
    "df.columns = ['Sales', 'Advertising']\n",
    "df.head()"
   ]
  },
  {
   "cell_type": "markdown",
   "id": "56657afd",
   "metadata": {},
   "source": [
    "### pandas info() method\n",
    "I viewed the summary of the dataframe with the pandas info() method."
   ]
  },
  {
   "cell_type": "code",
   "execution_count": 14,
   "id": "b0ae4ed7",
   "metadata": {},
   "outputs": [
    {
     "name": "stdout",
     "output_type": "stream",
     "text": [
      "<class 'pandas.core.frame.DataFrame'>\n",
      "RangeIndex: 35 entries, 0 to 34\n",
      "Data columns (total 2 columns):\n",
      " #   Column       Non-Null Count  Dtype  \n",
      "---  ------       --------------  -----  \n",
      " 0   Sales        35 non-null     float64\n",
      " 1   Advertising  35 non-null     float64\n",
      "dtypes: float64(2)\n",
      "memory usage: 688.0 bytes\n",
      "None\n"
     ]
    }
   ],
   "source": [
    "# View dataframe summary\n",
    "\n",
    "print(df.info())"
   ]
  },
  {
   "cell_type": "markdown",
   "id": "1e29473c",
   "metadata": {},
   "source": [
    "### Pandas describe() method\n",
    "I look at the descriptive statistics of the dataframe with the pandas describe() method."
   ]
  },
  {
   "cell_type": "code",
   "execution_count": 44,
   "id": "ab22b672",
   "metadata": {},
   "outputs": [
    {
     "data": {
      "text/html": [
       "<div>\n",
       "<style scoped>\n",
       "    .dataframe tbody tr th:only-of-type {\n",
       "        vertical-align: middle;\n",
       "    }\n",
       "\n",
       "    .dataframe tbody tr th {\n",
       "        vertical-align: top;\n",
       "    }\n",
       "\n",
       "    .dataframe thead th {\n",
       "        text-align: right;\n",
       "    }\n",
       "</style>\n",
       "<table border=\"1\" class=\"dataframe\">\n",
       "  <thead>\n",
       "    <tr style=\"text-align: right;\">\n",
       "      <th></th>\n",
       "      <th>12.0</th>\n",
       "      <th>15.0</th>\n",
       "    </tr>\n",
       "  </thead>\n",
       "  <tbody>\n",
       "    <tr>\n",
       "      <th>count</th>\n",
       "      <td>35.000000</td>\n",
       "      <td>35.000000</td>\n",
       "    </tr>\n",
       "    <tr>\n",
       "      <th>mean</th>\n",
       "      <td>24.605714</td>\n",
       "      <td>28.914286</td>\n",
       "    </tr>\n",
       "    <tr>\n",
       "      <th>std</th>\n",
       "      <td>5.902290</td>\n",
       "      <td>18.905915</td>\n",
       "    </tr>\n",
       "    <tr>\n",
       "      <th>min</th>\n",
       "      <td>15.300000</td>\n",
       "      <td>1.000000</td>\n",
       "    </tr>\n",
       "    <tr>\n",
       "      <th>25%</th>\n",
       "      <td>20.600000</td>\n",
       "      <td>16.500000</td>\n",
       "    </tr>\n",
       "    <tr>\n",
       "      <th>50%</th>\n",
       "      <td>24.500000</td>\n",
       "      <td>24.000000</td>\n",
       "    </tr>\n",
       "    <tr>\n",
       "      <th>75%</th>\n",
       "      <td>28.900000</td>\n",
       "      <td>42.000000</td>\n",
       "    </tr>\n",
       "    <tr>\n",
       "      <th>max</th>\n",
       "      <td>36.500000</td>\n",
       "      <td>65.000000</td>\n",
       "    </tr>\n",
       "  </tbody>\n",
       "</table>\n",
       "</div>"
      ],
      "text/plain": [
       "            12.0       15.0\n",
       "count  35.000000  35.000000\n",
       "mean   24.605714  28.914286\n",
       "std     5.902290  18.905915\n",
       "min    15.300000   1.000000\n",
       "25%    20.600000  16.500000\n",
       "50%    24.500000  24.000000\n",
       "75%    28.900000  42.000000\n",
       "max    36.500000  65.000000"
      ]
     },
     "execution_count": 44,
     "metadata": {},
     "output_type": "execute_result"
    }
   ],
   "source": [
    "# View descriptive statistics\n",
    "df.describe()"
   ]
  },
  {
   "cell_type": "markdown",
   "id": "0b882a80",
   "metadata": {},
   "source": [
    "### Independent and Dependent Variables\n",
    "In this project, I refer Independent variable as Feature variable and Dependent variable as Target variable. These variables are also recognized by different names as follows: -\n",
    "\n",
    "**Independent variable**\n",
    "Independent variable is also called Input variable and is denoted by X. In practical applications, independent variable is also called Feature variable or Predictor variable. We can denote it as:-\n",
    "\n",
    "Independent or Input variable (X) = Feature variable = Predictor variable\n",
    "\n",
    "**Dependent variable**\n",
    "Dependent variable is also called Output variable and is denoted by y.\n",
    "\n",
    "Dependent variable is also called Target variable or Response variable. It can be denoted it as follows:-\n",
    "\n",
    "Dependent or Output variable (y) = Target variable = Response variable"
   ]
  },
  {
   "cell_type": "code",
   "execution_count": 16,
   "id": "22a045ea",
   "metadata": {},
   "outputs": [],
   "source": [
    "# Declare feature variable and target variable\n",
    "\n",
    "X = df['Sales'].values\n",
    "y = df['Advertising'].values\n",
    "\n",
    "# Sales and Advertising data values are given by X and y respectively.\n",
    "\n",
    "# Values attribute of pandas dataframe returns the numpy arrays."
   ]
  },
  {
   "cell_type": "markdown",
   "id": "c86a4de3",
   "metadata": {},
   "source": [
    "### Visual exploratory data analysis\n",
    "I visualize the relationship between X and y by plotting a scatterplot between X and y."
   ]
  },
  {
   "cell_type": "code",
   "execution_count": 17,
   "id": "177c0da0",
   "metadata": {},
   "outputs": [
    {
     "data": {
      "image/png": "[encoded data removed]",
      "text/plain": [
       "<Figure size 640x480 with 1 Axes>"
      ]
     },
     "metadata": {},
     "output_type": "display_data"
    }
   ],
   "source": [
    "# Plot scatter plot between X and y\n",
    "\n",
    "plt.scatter(X, y, color = 'blue', label='Scatter Plot')\n",
    "plt.title('Relationship between Sales and Advertising')\n",
    "plt.xlabel('Sales')\n",
    "plt.ylabel('Advertising')\n",
    "plt.legend(loc=4)\n",
    "plt.show()"
   ]
  },
  {
   "cell_type": "markdown",
   "id": "4a67f01b",
   "metadata": {},
   "source": [
    "### Checking dimensions of X and y\n",
    "We need to check the dimensions of X and y to make sure they are in right format for Scikit-Learn API.\n",
    "\n",
    "It is an important precursor to model building."
   ]
  },
  {
   "cell_type": "code",
   "execution_count": 45,
   "id": "90e74a11",
   "metadata": {},
   "outputs": [
    {
     "name": "stdout",
     "output_type": "stream",
     "text": [
      "(35, 1)\n",
      "(1, 35)\n"
     ]
    }
   ],
   "source": [
    "# Print the dimensions of X and y\n",
    "\n",
    "print(X.shape)\n",
    "print(y.shape)"
   ]
  },
  {
   "cell_type": "markdown",
   "id": "95c4feae",
   "metadata": {},
   "source": [
    "### Reshaping X and y\n",
    "Since we are working with only one feature variable, so we need to reshape using Numpy reshape() method.\n",
    "\n",
    "It specifies first dimension to be -1, which means \"unspecified\".\n",
    "\n",
    "Its value is inferred from the length of the array and the remaining dimensions."
   ]
  },
  {
   "cell_type": "code",
   "execution_count": 49,
   "id": "39986c51",
   "metadata": {},
   "outputs": [],
   "source": [
    "# Reshape X and y\n",
    "\n",
    "X = X.reshape(-1,1)\n",
    "y = y.reshape(-1,1)"
   ]
  },
  {
   "cell_type": "code",
   "execution_count": 50,
   "id": "1637d299",
   "metadata": {},
   "outputs": [
    {
     "name": "stdout",
     "output_type": "stream",
     "text": [
      "(35, 1)\n",
      "(35, 1)\n"
     ]
    }
   ],
   "source": [
    "# Print the dimensions of X and y after reshaping\n",
    "\n",
    "print(X.shape)\n",
    "print(y.shape)"
   ]
  },
  {
   "cell_type": "markdown",
   "id": "a4bfa21a",
   "metadata": {},
   "source": [
    "### Difference in dimensions of X and y after reshaping\n",
    "We can see the difference in diminsions of X and y before and after reshaping.\n",
    "\n",
    "It is essential in this case because getting the feature and target variable right is an important precursor to model building.\n",
    "\n",
    "**Train test split**\n",
    "\n",
    "I split the dataset into two sets namely - train set and test set.\n",
    "\n",
    "The model learn the relationships from the training data and predict on test data."
   ]
  },
  {
   "cell_type": "code",
   "execution_count": 51,
   "id": "94d6850b",
   "metadata": {},
   "outputs": [],
   "source": [
    "# Split X and y into training and test data sets\n",
    "\n",
    "from sklearn.model_selection import train_test_split\n",
    "\n",
    "X_train,X_test,y_train,y_test = train_test_split(X, y, test_size=0.33, random_state=42)"
   ]
  },
  {
   "cell_type": "code",
   "execution_count": 22,
   "id": "e8a950ab",
   "metadata": {},
   "outputs": [
    {
     "name": "stdout",
     "output_type": "stream",
     "text": [
      "(23, 1)\n",
      "(23, 1)\n",
      "(12, 1)\n",
      "(12, 1)\n"
     ]
    }
   ],
   "source": [
    "# Print the dimensions of X_train,X_test,y_train,y_test\n",
    "\n",
    "print(X_train.shape)\n",
    "print(y_train.shape)\n",
    "print(X_test.shape)\n",
    "print(y_test.shape)\n"
   ]
  },
  {
   "cell_type": "markdown",
   "id": "30602d3e",
   "metadata": {},
   "source": [
    "### Mechanics of the model\n",
    "I split the dataset into two sets – the training set and the test set. Then, I instantiate the regressor lm and fit it on the training set with the fit method.\n",
    "\n",
    "In this step, the model learned the relationships between the training data (X_train, y_train).\n",
    "\n",
    "Now the model is ready to make predictions on the test data (X_test). Hence, I predict on the test data using the predict method."
   ]
  },
  {
   "cell_type": "code",
   "execution_count": 23,
   "id": "6352a4aa",
   "metadata": {},
   "outputs": [],
   "source": [
    "# Fit the linear model\n",
    "\n",
    "# Instantiate the linear regression object lm\n",
    "from sklearn.linear_model import LinearRegression\n",
    "lr = LinearRegression()\n",
    "\n",
    "\n",
    "# Train the model using training data sets\n",
    "lr.fit(X_train,y_train)\n",
    "\n",
    "\n",
    "# Predict on the test data\n",
    "y_pred=lr.predict(X_test)"
   ]
  },
  {
   "cell_type": "markdown",
   "id": "e211d65c",
   "metadata": {},
   "source": [
    "### Model slope and intercept term\n",
    "The model slope is given by lm.coef and model intercept term is given by lm.intercept.\n",
    "\n",
    "The estimated model slope and intercept values are 1.60509347 and -11.16003616.\n",
    "\n",
    "So, the equation of the fitted regression line is\n",
    "\n",
    "y = 1.60509347 * x - 11.16003616"
   ]
  },
  {
   "cell_type": "code",
   "execution_count": 24,
   "id": "00d52037",
   "metadata": {},
   "outputs": [
    {
     "name": "stdout",
     "output_type": "stream",
     "text": [
      "Estimated model slope, a: [[1.98396097]]\n",
      "Estimated model intercept, b: (array([-21.45535484]),)\n"
     ]
    }
   ],
   "source": [
    "# Compute model slope and intercept\n",
    "\n",
    "a = lr.coef_\n",
    "b = lr.intercept_,\n",
    "print(\"Estimated model slope, a:\" , a)\n",
    "print(\"Estimated model intercept, b:\" , b) "
   ]
  },
  {
   "cell_type": "code",
   "execution_count": 25,
   "id": "a12472dc",
   "metadata": {},
   "outputs": [],
   "source": [
    "# So, our fitted regression line is \n",
    "\n",
    "# y = 1.60509347 * x - 11.16003616 \n",
    "\n",
    "# That is our linear model."
   ]
  },
  {
   "cell_type": "code",
   "execution_count": 26,
   "id": "a177f007",
   "metadata": {},
   "outputs": [],
   "source": [
    "X = X.reshape(-1,1)\n",
    "y = y.reshape(-1,1)"
   ]
  },
  {
   "cell_type": "markdown",
   "id": "7ceabfc3",
   "metadata": {},
   "source": [
    "### Making predictions\n",
    "I have predicted the Advertising values on first five 5 Sales datasets by writing code\n",
    "\n",
    "    lm.predict(X) [0:5]  \n",
    "\n",
    "\n",
    "If I remove [0:5], then I will get predicted Advertising values for the whole Sales dataset.\n",
    "\n",
    "To make prediction, on an individual Sales value, I write\n",
    "\n",
    "    lm.predict(Xi)\n",
    "\n",
    "\n",
    "where Xi is the Sales data value of the ith observation"
   ]
  },
  {
   "cell_type": "code",
   "execution_count": null,
   "id": "40fd6485",
   "metadata": {},
   "outputs": [],
   "source": []
  },
  {
   "cell_type": "code",
   "execution_count": 27,
   "id": "613d3413",
   "metadata": {},
   "outputs": [
    {
     "data": {
      "text/plain": [
       "array([[19.21584495],\n",
       "       [20.20782544],\n",
       "       [ 9.29604013],\n",
       "       [ 8.89924793],\n",
       "       [25.16772785]])"
      ]
     },
     "execution_count": 27,
     "metadata": {},
     "output_type": "execute_result"
    }
   ],
   "source": [
    "# Predicting Advertising values\n",
    "\n",
    "lr.predict(X)[0:5]\n",
    "\n",
    "# Predicting Advertising values on first five Sales values."
   ]
  },
  {
   "cell_type": "code",
   "execution_count": 58,
   "id": "c26b419d",
   "metadata": {},
   "outputs": [
    {
     "data": {
      "text/plain": [
       "array([[26.15970833]])"
      ]
     },
     "execution_count": 58,
     "metadata": {},
     "output_type": "execute_result"
    }
   ],
   "source": [
    "# To make an individual prediction using the linear regression model.\n",
    "\n",
    "lr.predict([[24]])"
   ]
  },
  {
   "cell_type": "code",
   "execution_count": 61,
   "id": "6c6e1746",
   "metadata": {},
   "outputs": [
    {
     "name": "stdout",
     "output_type": "stream",
     "text": [
      "[[26.15970833]]\n"
     ]
    }
   ],
   "source": [
    "print(str(lr.predict([[24]])))"
   ]
  },
  {
   "cell_type": "markdown",
   "id": "fab74ba8",
   "metadata": {},
   "source": [
    "### Regression metrics for model performance\n",
    "Now, it is the time to evaluate model performance.\n",
    "\n",
    "For regression problems, there are two ways to compute the model performance. They are RMSE (Root Mean Square Error) and R-Squared Value. These are explained below:-\n",
    "\n",
    "**RMSE**\n",
    "\n",
    "RMSE is the standard deviation of the residuals. So, RMSE gives us the standard deviation of the unexplained variance by the model. It can be calculated by taking square root of Mean Squared Error. RMSE is an absolute measure of fit. It gives us how spread the residuals are, given by the standard deviation of the residuals. The more concentrated the data is around the regression line, the lower the residuals and hence lower the standard deviation of residuals. It results in lower values of RMSE. So, lower values of RMSE indicate better fit of data."
   ]
  },
  {
   "cell_type": "code",
   "execution_count": 55,
   "id": "0ad4d365",
   "metadata": {},
   "outputs": [
    {
     "name": "stdout",
     "output_type": "stream",
     "text": [
      "RMSE value: 12.6268\n"
     ]
    }
   ],
   "source": [
    "# Calculate and print Root Mean Square Error(RMSE)\n",
    "\n",
    "from sklearn.metrics import mean_squared_error\n",
    "mse = mean_squared_error(y_test, y_pred)\n",
    "rmse = np.sqrt(mse)\n",
    "print(\"RMSE value: {:.4f}\".format(rmse))"
   ]
  },
  {
   "cell_type": "markdown",
   "id": "7d79a1b3",
   "metadata": {},
   "source": [
    "### R2 Score\n",
    "R2 Score is another metric to evaluate performance of a regression model. It is also called coefficient of determination. It gives us an idea of goodness of fit for the linear regression models. It indicates the percentage of variance that is explained by the model.\n",
    "\n",
    "Mathematically,\n",
    "\n",
    "R2 Score = Explained Variation/Total Variation\n",
    "\n",
    "In general, the higher the R2 Score value, the better the model fits the data. Usually, its value ranges from 0 to 1. So, we want its value to be as close to 1. Its value can become negative if our model is wrong."
   ]
  },
  {
   "cell_type": "code",
   "execution_count": 21,
   "id": "698a08ed",
   "metadata": {},
   "outputs": [
    {
     "name": "stdout",
     "output_type": "stream",
     "text": [
      "R2 Score value: 0.1890\n"
     ]
    }
   ],
   "source": [
    "# Calculate and print r2_score\n",
    "\n",
    "from sklearn.metrics import r2_score\n",
    "print (\"R2 Score value: {:.4f}\".format(r2_score(y_test, y_pred)))"
   ]
  },
  {
   "cell_type": "markdown",
   "id": "dfdbd65b",
   "metadata": {},
   "source": [
    "### Interpretation and Conclusion\n",
    "\n",
    "The RMSE value has been found to be 12.6268. It means the standard deviation for our prediction is 11.2273. So, sometimes we expect the predictions to be off by more than 11.2273 and other times we expect less than 11.2273. So, the model is not good fit to the data.\n",
    "\n",
    "In business decisions, the benchmark for the R2 score value is 0.7. It means if R2 score value >= 0.7, then the model is good enough to deploy on unseen data whereas if R2 score value < 0.7, then the model is not good enough to deploy. Our R2 score value has been found to be .1890. It means that this model explains 18.90 % of the variance in our dependent variable. So, the R2 score value confirms that the model is not good enough to deploy because it does not provide good fit to the data."
   ]
  },
  {
   "cell_type": "code",
   "execution_count": 22,
   "id": "0c768d66",
   "metadata": {},
   "outputs": [
    {
     "data": {
      "image/png": "[encoded data removed]",
      "text/plain": [
       "<Figure size 640x480 with 1 Axes>"
      ]
     },
     "metadata": {},
     "output_type": "display_data"
    }
   ],
   "source": [
    "# Plot the Regression Line\n",
    "\n",
    "\n",
    "plt.scatter(X, y, color = 'blue', label='Scatter Plot')\n",
    "plt.plot(X_test, y_pred, color = 'black', linewidth=3, label = 'Regression Line')\n",
    "plt.title('Relationship between Sales and Advertising')\n",
    "plt.xlabel('Sales')\n",
    "plt.ylabel('Advertising')\n",
    "plt.legend(loc=4)\n",
    "plt.show()"
   ]
  },
  {
   "cell_type": "markdown",
   "id": "97fcc7ff",
   "metadata": {},
   "source": [
    "### Residual analysis\n",
    "A linear regression model may not represent the data appropriately. The model may be a poor fit to the data. So, we should validate our model by defining and examining residual plots.\n",
    "\n",
    "The difference between the observed value of the dependent variable (y) and the predicted value (ŷi) is called the residual and is denoted by e. The scatter-plot of these residuals is called residual plot.\n",
    "\n",
    "If the data points in a residual plot are randomly dispersed around horizontal axis and an approximate zero residual mean, a linear regression model may be appropriate for the data. Otherwise a non-linear model may be more appropriate.\n",
    "\n",
    "If we take a look at the generated ‘Residual errors’ plot, we can clearly see that the train data plot pattern is non-random. Same is the case with the test data plot pattern. So, it suggests a better-fit for a non-linear model."
   ]
  },
  {
   "cell_type": "code",
   "execution_count": 23,
   "id": "9e771c67",
   "metadata": {},
   "outputs": [
    {
     "data": {
      "image/png": "[encoded data removed]",
      "text/plain": [
       "<Figure size 640x480 with 1 Axes>"
      ]
     },
     "metadata": {},
     "output_type": "display_data"
    }
   ],
   "source": [
    "# Plotting residual errors\n",
    "\n",
    "plt.scatter(lm.predict(X_train), lm.predict(X_train) - y_train, color = 'red', label = 'Train data')\n",
    "plt.scatter(lm.predict(X_test), lm.predict(X_test) - y_test, color = 'blue', label = 'Test data')\n",
    "plt.hlines(xmin = 0, xmax = 50, y = 0, linewidth = 3)\n",
    "plt.title('Residual errors')\n",
    "plt.legend(loc = 4)\n",
    "plt.show()"
   ]
  },
  {
   "cell_type": "markdown",
   "id": "a99f309c",
   "metadata": {},
   "source": [
    "### Checking for Overfitting and Underfitting\n",
    "I calculate training set score as 0.3903. Similarly, I calculate test set score as 0.1890. The training set score is very poor. So, the model does not learn the relationships appropriately from the training data. Thus, the model performs poorly on the training data. It is a clear sign of Underfitting. Hence, I validated my finding that the linear regression model does not provide good fit to the data.\n",
    "\n",
    "Underfitting means our model performs poorly on the training data. It means the model does not capture the relationships between the training data. This problem can be improved by increasing model complexity. We should use more powerful models like Polynomial regression to increase model complexity."
   ]
  },
  {
   "cell_type": "code",
   "execution_count": 24,
   "id": "e76f73bd",
   "metadata": {},
   "outputs": [
    {
     "name": "stdout",
     "output_type": "stream",
     "text": [
      "Training set score: 0.3903\n",
      "Test set score: 0.1890\n"
     ]
    }
   ],
   "source": [
    "# Checking for Overfitting or Underfitting the data\n",
    "\n",
    "print(\"Training set score: {:.4f}\".format(lm.score(X_train,y_train)))\n",
    "\n",
    "print(\"Test set score: {:.4f}\".format(lm.score(X_test,y_test)))"
   ]
  },
  {
   "cell_type": "markdown",
   "id": "498aa208",
   "metadata": {},
   "source": [
    "## Simple Linear Regression - Model Assumptions\n",
    "The Linear Regression Model is based on several assumptions which are listed below:-\n",
    "\n",
    "i. Linear relationship ii. Multivariate normality iii. No or little multicollinearity iv. No auto-correlation v. Homoscedasticity\n",
    "\n",
    "**i. Linear relationship**\n",
    "\n",
    "The relationship between response and feature variables should be linear. This linear relationship assumption can be tested by plotting a scatter-plot between response and feature variables.\n",
    "\n",
    "**ii. Multivariate normality**\n",
    "\n",
    "The linear regression model requires all variables to be multivariate normal. A multivariate normal distribution means a vector in multiple normally distributed variables, where any linear combination of the variables is also normally distributed.\n",
    "\n",
    "**iii. No or little multicollinearity**\n",
    "\n",
    "It is assumed that there is little or no multicollinearity in the data. Multicollinearity occurs when the features (or independent variables) are highly correlated.\n",
    "\n",
    "**iv. No auto-correlation**\n",
    "\n",
    "Also, it is assumed that there is little or no auto-correlation in the data. Autocorrelation occurs when the residual errors are not independent from each other.\n",
    "\n",
    "**v. Homoscedasticity**\n",
    "\n",
    "Homoscedasticity describes a situation in which the error term (that is, the noise in the model) is the same across all values of the independent variables. It means the residuals are same across the regression line. It can be checked by looking at scatter plot.\n",
    "\n",
    "**References**\n",
    "The concepts and ideas in this project have been taken from the following websites and books:-\n",
    "\n",
    "i. Machine learning notes by Andrew Ng\n",
    "\n",
    "ii. https://en.wikipedia.org/wiki/Linear_regression\n",
    "\n",
    "iii.https://en.wikipedia.org/wiki/Simple_linear_regression\n",
    "\n",
    "iv. https://en.wikipedia.org/wiki/Ordinary_least_squares\n",
    "\n",
    "v. https://en.wikipedia.org/wiki/Root-mean-square_deviation\n",
    "\n",
    "vi. https://en.wikipedia.org/wiki/Coefficient_of_determination\n",
    "\n",
    "vii.https://www.statisticssolutions.com/assumptions-of-linear-regression/\n",
    "\n",
    "viii.Python Data Science Handbook by Jake VanderPlas\n",
    "\n",
    "ix. Hands-On Machine Learning with Scikit Learn and Tensorflow by Aurilien Geron\n",
    "\n",
    "x. Introduction to Machine Learning with Python by Andreas C Muller and Sarah Guido"
   ]
  },
  {
   "cell_type": "code",
   "execution_count": null,
   "id": "40fb6967",
   "metadata": {},
   "outputs": [],
   "source": []
  }
 ],
 "metadata": {
  "kernelspec": {
   "display_name": "Python 3 (ipykernel)",
   "language": "python",
   "name": "python3"
  },
  "language_info": {
   "codemirror_mode": {
    "name": "ipython",
    "version": 3
   },
   "file_extension": ".py",
   "mimetype": "text/x-python",
   "name": "python",
   "nbconvert_exporter": "python",
   "pygments_lexer": "ipython3",
   "version": "3.9.12"
  }
 },
 "nbformat": 4,
 "nbformat_minor": 5
}
